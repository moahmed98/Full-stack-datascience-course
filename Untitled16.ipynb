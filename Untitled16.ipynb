{
 "cells": [
  {
   "cell_type": "code",
   "execution_count": 1,
   "metadata": {},
   "outputs": [
    {
     "name": "stdout",
     "output_type": "stream",
     "text": [
      "Hello Python\n"
     ]
    }
   ],
   "source": [
    "#Q1.Write a Python program to print \"Hello Python\"\n",
    "print(\"Hello Python\")"
   ]
  },
  {
   "cell_type": "code",
   "execution_count": 11,
   "metadata": {},
   "outputs": [
    {
     "name": "stdout",
     "output_type": "stream",
     "text": [
      "Please enter the value of a\n",
      "10\n",
      "Please eneter the value of b\n",
      "20\n",
      "The addition of a and b is: 30\n",
      "The division of a and b is: 0.5\n"
     ]
    }
   ],
   "source": [
    "#Q2.Write a python program to print arithmetical operations addition and division\n",
    "a = int(input(\"Please enter the value of a\\n\"))\n",
    "b = int(input(\"Please eneter the value of b\\n\"))\n",
    "addition = a + b\n",
    "print(f\"The addition of a and b is: {addition}\")\n",
    "division = a/b\n",
    "print(f\"The division of a and b is: {division}\")"
   ]
  },
  {
   "cell_type": "code",
   "execution_count": 10,
   "metadata": {},
   "outputs": [
    {
     "name": "stdout",
     "output_type": "stream",
     "text": [
      "Please enter the value of base\n",
      "20\n",
      "Please enter the value of height\n",
      "10\n",
      "The area of triangle is: 100.0\n"
     ]
    }
   ],
   "source": [
    "#Q3.Write a python program to find the area of the triangle\n",
    "base = int(input(\"Please enter the value of base\\n\"))\n",
    "height = int(input(\"Please enter the value of height\\n\"))\n",
    "area = (base * height)/2\n",
    "print(f\"The area of triangle is: {area}\")"
   ]
  },
  {
   "cell_type": "code",
   "execution_count": 12,
   "metadata": {},
   "outputs": [
    {
     "name": "stdout",
     "output_type": "stream",
     "text": [
      "Please enter the value of a\n",
      "10\n",
      "Please enter the value of b\n",
      "20\n",
      "The swapped value of a is 20\n",
      "The swapped value of a is 10\n"
     ]
    }
   ],
   "source": [
    "#Q4.Write a python program to swap two variables\n",
    "a = int(input(\"Please enter the value of a\\n\"))\n",
    "b = int(input(\"Please enter the value of b\\n\"))\n",
    "c = a\n",
    "a = b\n",
    "b = c\n",
    "print(f\"The swapped value of a is {a}\")\n",
    "print(f\"The swapped value of a is {b}\")"
   ]
  },
  {
   "cell_type": "code",
   "execution_count": 14,
   "metadata": {},
   "outputs": [
    {
     "name": "stdout",
     "output_type": "stream",
     "text": [
      "Enter the value of x10\n",
      "Enter the value of y20\n",
      "15\n"
     ]
    }
   ],
   "source": [
    "#Q5.Write a python program to generate random number\n",
    "import random\n",
    "x= int(input(\"Enter the value of x\\n\"))\n",
    "y= int(input(\"Enter the value of y\\n\"))\n",
    "a = random.randint(x,y)\n",
    "print(a)"
   ]
  },
  {
   "cell_type": "code",
   "execution_count": null,
   "metadata": {},
   "outputs": [],
   "source": []
  },
  {
   "cell_type": "code",
   "execution_count": null,
   "metadata": {},
   "outputs": [],
   "source": []
  }
 ],
 "metadata": {
  "kernelspec": {
   "display_name": "Python 3",
   "language": "python",
   "name": "python3"
  },
  "language_info": {
   "codemirror_mode": {
    "name": "ipython",
    "version": 3
   },
   "file_extension": ".py",
   "mimetype": "text/x-python",
   "name": "python",
   "nbconvert_exporter": "python",
   "pygments_lexer": "ipython3",
   "version": "3.8.5"
  }
 },
 "nbformat": 4,
 "nbformat_minor": 4
}
